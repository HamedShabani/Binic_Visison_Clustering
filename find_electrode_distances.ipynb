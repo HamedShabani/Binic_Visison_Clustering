{
 "cells": [
  {
   "cell_type": "code",
   "execution_count": 24,
   "metadata": {},
   "outputs": [
    {
     "name": "stdout",
     "output_type": "stream",
     "text": [
      "Distance between electrodes 12 and 22: 0.20 mm\n"
     ]
    }
   ],
   "source": [
    "import math\n",
    "\n",
    "# Define the dimensions of the electrode array\n",
    "num_rows = 8\n",
    "num_cols = 8\n",
    "electrode_spacing = 0.2 # in mm\n",
    "\n",
    "# Define a function to calculate the distance between two electrodes\n",
    "def calculate_distance(coord1, coord2):\n",
    "    x1, y1 = coord1\n",
    "    x2, y2 = coord2\n",
    "    distance = math.sqrt((x2-x1)**2 + (y2-y1)**2)\n",
    "    return distance\n",
    "\n",
    "# Define a function to generate a list of electrode coordinates\n",
    "def generate_electrode_coords(num_rows, num_cols, electrode_spacing):\n",
    "    electrode_coords = []\n",
    "    for row in range(num_rows):\n",
    "        for col in range(num_cols):\n",
    "            x = col * electrode_spacing\n",
    "            y = row * electrode_spacing\n",
    "            electrode_num = 10*(col+1) + (row+1)\n",
    "            electrode_coords.append((x, y, electrode_num))\n",
    "    return electrode_coords\n",
    "\n",
    "# Generate a list of electrode coordinates for the MEA\n",
    "electrode_coords = generate_electrode_coords(num_rows, num_cols, electrode_spacing)\n",
    "\n",
    "# Calculate the distance between any two electrodes\n",
    "electrode1 = 12 # electrode numbering starts from 11\n",
    "electrode2 = 22\n",
    "coord1 = next(coord for coord in electrode_coords if coord[2] == electrode1)\n",
    "coord2 = next(coord for coord in electrode_coords if coord[2] == electrode2)\n",
    "distance = calculate_distance(coord1[:2], coord2[:2])\n",
    "print(f\"Distance between electrodes {electrode1} and {electrode2}: {distance:.2f} mm\")\n"
   ]
  },
  {
   "cell_type": "code",
   "execution_count": 29,
   "metadata": {},
   "outputs": [
    {
     "name": "stdout",
     "output_type": "stream",
     "text": [
      "Distance between electrodes 12 and 71: 1.22 mm\n"
     ]
    }
   ],
   "source": [
    "# Calculate the distance between any two electrodes\n",
    "electrode1 = 12 # electrode numbering starts from 11\n",
    "electrode2 = 71\n",
    "coord1 = next(coord for coord in electrode_coords if coord[2] == electrode1)\n",
    "coord2 = next(coord for coord in electrode_coords if coord[2] == electrode2)\n",
    "distance = calculate_distance(coord1[:2], coord2[:2])\n",
    "print(f\"Distance between electrodes {electrode1} and {electrode2}: {distance:.2f} mm\")\n"
   ]
  }
 ],
 "metadata": {
  "kernelspec": {
   "display_name": "base",
   "language": "python",
   "name": "python3"
  },
  "language_info": {
   "codemirror_mode": {
    "name": "ipython",
    "version": 3
   },
   "file_extension": ".py",
   "mimetype": "text/x-python",
   "name": "python",
   "nbconvert_exporter": "python",
   "pygments_lexer": "ipython3",
   "version": "3.8.15"
  },
  "orig_nbformat": 4
 },
 "nbformat": 4,
 "nbformat_minor": 2
}
